{
 "cells": [
  {
   "cell_type": "code",
   "execution_count": 1,
   "metadata": {},
   "outputs": [],
   "source": [
    "import os\n",
    "import cv2\n",
    "import pickle\n",
    "from detector import RetinaFaceDetector\n",
    "from recognizer import ArcFaceRecognizer"
   ]
  },
  {
   "cell_type": "code",
   "execution_count": 18,
   "metadata": {},
   "outputs": [],
   "source": [
    "#Create aligned images\n",
    "detector = RetinaFaceDetector()\n",
    "\n",
    "folder = 'identities'\n",
    "\n",
    "for celeb in os.listdir(folder):\n",
    "    path = os.path.join(folder, celeb)\n",
    "    for img_path in os.listdir(path):\n",
    "        img_path = os.path.join(path, img_path)\n",
    "        \n",
    "        img_raw, dets = detector.detect_single_image(img_path)\n",
    "        faces, faces_landms = detector.extract_faces_landms(img_raw, dets)\n",
    "        \n",
    "        right_eyes = faces_landms[:, :2]\n",
    "        left_eyes = faces_landms[:, 2:4]\n",
    "\n",
    "        face = faces[0]\n",
    "        face_landms = faces_landms[0]\n",
    "        right_eye, left_eye = right_eyes[0], left_eyes[0]\n",
    "\n",
    "        img, angle = detector.align_face(face, left_eye, right_eye)\n",
    "        cv2.imwrite(os.path.join(path, 'aligned.jpg'), cv2.cvtColor(img, cv2.COLOR_RGB2BGR))\n"
   ]
  },
  {
   "cell_type": "code",
   "execution_count": 3,
   "metadata": {},
   "outputs": [
    {
     "name": "stderr",
     "output_type": "stream",
     "text": [
      "e:\\Face_Surveillance\\Recognition\\models\\iresnet.py:149: FutureWarning: `torch.cuda.amp.autocast(args...)` is deprecated. Please use `torch.amp.autocast('cuda', args...)` instead.\n",
      "  with torch.cuda.amp.autocast(self.fp16):\n"
     ]
    }
   ],
   "source": [
    "recognizer = ArcFaceRecognizer()\n",
    "recognizer._create_face_database('identities', 'db.pkl')"
   ]
  }
 ],
 "metadata": {
  "kernelspec": {
   "display_name": "face_surveillance",
   "language": "python",
   "name": "python3"
  },
  "language_info": {
   "codemirror_mode": {
    "name": "ipython",
    "version": 3
   },
   "file_extension": ".py",
   "mimetype": "text/x-python",
   "name": "python",
   "nbconvert_exporter": "python",
   "pygments_lexer": "ipython3",
   "version": "3.12.4"
  }
 },
 "nbformat": 4,
 "nbformat_minor": 2
}
